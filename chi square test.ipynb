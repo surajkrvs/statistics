{
 "cells": [
  {
   "cell_type": "markdown",
   "id": "3a024a13-0f8b-47a0-8461-450d029f0f17",
   "metadata": {},
   "source": [
    "Chi square test with python"
   ]
  },
  {
   "cell_type": "code",
   "execution_count": 1,
   "id": "5f7cfb17-184a-426f-a4ac-34e861f2ab29",
   "metadata": {},
   "outputs": [],
   "source": [
    "import scipy.stats as stat\n",
    "import numpy as np"
   ]
  },
  {
   "cell_type": "code",
   "execution_count": 9,
   "id": "6d33f9f1-9a7d-4b4c-82bd-2cd8714c8821",
   "metadata": {},
   "outputs": [],
   "source": [
    "## No of hours students study in a weekly bases daily\n",
    "expected_data = [8,6,7,9,6,9,7]\n",
    "observed_data = [7,8,6,8,9,7,7]"
   ]
  },
  {
   "cell_type": "code",
   "execution_count": 10,
   "id": "1ed7778f-d631-45b3-9928-a77fb47f48c9",
   "metadata": {},
   "outputs": [
    {
     "data": {
      "text/plain": [
       "(52, 52)"
      ]
     },
     "execution_count": 10,
     "metadata": {},
     "output_type": "execute_result"
    }
   ],
   "source": [
    "sum(expected_data),sum(observed_data)"
   ]
  },
  {
   "cell_type": "code",
   "execution_count": 11,
   "id": "2b1b1b8b-6470-4da3-8f28-bef79510b162",
   "metadata": {},
   "outputs": [],
   "source": [
    "##Chi square Godness of fit test\n",
    "chisquare_test_statistic,p_value = stat.chisquare(observed_data,expected_data)"
   ]
  },
  {
   "cell_type": "code",
   "execution_count": 12,
   "id": "b53bda7a-352e-49de-b0ad-d5c8fc4b6bd8",
   "metadata": {},
   "outputs": [
    {
     "data": {
      "text/plain": [
       "(2.9900793650793656, 0.8100909431609661)"
      ]
     },
     "execution_count": 12,
     "metadata": {},
     "output_type": "execute_result"
    }
   ],
   "source": [
    "chisquare_test_statistic,p_value"
   ]
  },
  {
   "cell_type": "code",
   "execution_count": 18,
   "id": "225353bb-f546-49c4-9277-6073057abb54",
   "metadata": {},
   "outputs": [
    {
     "name": "stdout",
     "output_type": "stream",
     "text": [
      "6\n"
     ]
    }
   ],
   "source": [
    "##find the critical value\n",
    "significance_value = 0.05\n",
    "dof = len(expected_data) - 1\n",
    "print(dof)\n",
    "critical_value = stat.chi2.ppf(significance_value,dof)"
   ]
  },
  {
   "cell_type": "code",
   "execution_count": 19,
   "id": "c45b5952-59e9-47e5-890c-72bae028e4cd",
   "metadata": {},
   "outputs": [
    {
     "data": {
      "text/plain": [
       "1.6353828943279067"
      ]
     },
     "execution_count": 19,
     "metadata": {},
     "output_type": "execute_result"
    }
   ],
   "source": [
    "critical_value"
   ]
  },
  {
   "cell_type": "code",
   "execution_count": null,
   "id": "9259ab30-f827-446a-9316-8d3ff36d271b",
   "metadata": {},
   "outputs": [],
   "source": [
    "if chisquare_test_statistic"
   ]
  }
 ],
 "metadata": {
  "kernelspec": {
   "display_name": "Python 3 (ipykernel)",
   "language": "python",
   "name": "python3"
  },
  "language_info": {
   "codemirror_mode": {
    "name": "ipython",
    "version": 3
   },
   "file_extension": ".py",
   "mimetype": "text/x-python",
   "name": "python",
   "nbconvert_exporter": "python",
   "pygments_lexer": "ipython3",
   "version": "3.10.8"
  }
 },
 "nbformat": 4,
 "nbformat_minor": 5
}
