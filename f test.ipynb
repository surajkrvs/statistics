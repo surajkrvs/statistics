{
 "cells": [
  {
   "cell_type": "markdown",
   "id": "6d102514-b6b0-411d-a6bc-5d2f5d9439e0",
   "metadata": {},
   "source": [
    "F test with python"
   ]
  },
  {
   "cell_type": "code",
   "execution_count": 1,
   "id": "08c3befa-1b78-4c89-82e6-e475b34acfad",
   "metadata": {},
   "outputs": [],
   "source": [
    "#evidence to say that two population  variances are not equal.\n",
    "#both the performance is different\n",
    "worker1 = [18,19,22,25,27,28,41,45,51,55]\n",
    "worker2 = [14,15,15,17,18,22,25,25,27,34]"
   ]
  },
  {
   "cell_type": "code",
   "execution_count": 7,
   "id": "7dcfa940-7b2a-48e2-9e73-c52c117f6f63",
   "metadata": {},
   "outputs": [],
   "source": [
    "#calculating f test \n",
    "import numpy as np\n",
    "f_test =  np.var(worker1)/np.var(worker2)"
   ]
  },
  {
   "cell_type": "code",
   "execution_count": 8,
   "id": "25695ab1-26b7-4eb3-aa37-faad2687c22b",
   "metadata": {},
   "outputs": [
    {
     "data": {
      "text/plain": [
       "4.387122002085506"
      ]
     },
     "execution_count": 8,
     "metadata": {},
     "output_type": "execute_result"
    }
   ],
   "source": [
    "f_test"
   ]
  },
  {
   "cell_type": "code",
   "execution_count": 17,
   "id": "192f4d53-6a9f-44b6-883d-deddaef4089d",
   "metadata": {},
   "outputs": [],
   "source": [
    "#degree of freedom\n",
    "df1 = len(worker1) - 1 \n",
    "df2 = len(worker2) - 2\n",
    "signifance_value = 0.05"
   ]
  },
  {
   "cell_type": "code",
   "execution_count": 18,
   "id": "b53c9796-869f-4783-8e15-9e61fac1465c",
   "metadata": {},
   "outputs": [
    {
     "data": {
      "text/plain": [
       "(9, 8)"
      ]
     },
     "execution_count": 18,
     "metadata": {},
     "output_type": "execute_result"
    }
   ],
   "source": [
    "df1 , df2"
   ]
  },
  {
   "cell_type": "code",
   "execution_count": 19,
   "id": "07766a5b-3fe7-47fd-8bd1-5c90149e249c",
   "metadata": {},
   "outputs": [],
   "source": [
    "import scipy .stats as stat"
   ]
  },
  {
   "cell_type": "code",
   "execution_count": 24,
   "id": "cc114f65-e15b-4e6b-9a1c-86913170ba4f",
   "metadata": {},
   "outputs": [],
   "source": [
    "critical_value = stat.f.ppf(q = 1 - signifance_value, dfn = df1, dfd = df2)"
   ]
  },
  {
   "cell_type": "code",
   "execution_count": 25,
   "id": "203d6174-a5e7-4871-9040-3a2943f93314",
   "metadata": {},
   "outputs": [
    {
     "data": {
      "text/plain": [
       "3.3881302347397266"
      ]
     },
     "execution_count": 25,
     "metadata": {},
     "output_type": "execute_result"
    }
   ],
   "source": [
    "critical_value"
   ]
  },
  {
   "cell_type": "code",
   "execution_count": 26,
   "id": "b1a830d2-6cdd-4d02-b09d-57d71d1c8b50",
   "metadata": {},
   "outputs": [
    {
     "name": "stdout",
     "output_type": "stream",
     "text": [
      " reject the Null hypothesis\n"
     ]
    }
   ],
   "source": [
    "if f_test > critical_value:\n",
    "    print(' reject the Null hypothesis')\n",
    "else : \n",
    "    print(' fail to reject the null hypothesis')"
   ]
  },
  {
   "cell_type": "code",
   "execution_count": null,
   "id": "bb5121e7-f8cc-4c31-84f1-6acf0973874b",
   "metadata": {},
   "outputs": [],
   "source": []
  },
  {
   "cell_type": "code",
   "execution_count": null,
   "id": "975ac1f1-73b0-4faa-a6e2-2eb36d82fa13",
   "metadata": {},
   "outputs": [],
   "source": []
  },
  {
   "cell_type": "code",
   "execution_count": null,
   "id": "9214b0c7-6eec-49f9-b7cf-7b2bfab56bf1",
   "metadata": {},
   "outputs": [],
   "source": []
  },
  {
   "cell_type": "code",
   "execution_count": null,
   "id": "c985e3c0-cb8e-4e95-94ad-fce15263c65b",
   "metadata": {},
   "outputs": [],
   "source": []
  },
  {
   "cell_type": "code",
   "execution_count": null,
   "id": "b65f39f8-eb58-4580-8f06-f81cf12f5867",
   "metadata": {},
   "outputs": [],
   "source": []
  }
 ],
 "metadata": {
  "kernelspec": {
   "display_name": "Python 3 (ipykernel)",
   "language": "python",
   "name": "python3"
  },
  "language_info": {
   "codemirror_mode": {
    "name": "ipython",
    "version": 3
   },
   "file_extension": ".py",
   "mimetype": "text/x-python",
   "name": "python",
   "nbconvert_exporter": "python",
   "pygments_lexer": "ipython3",
   "version": "3.10.8"
  }
 },
 "nbformat": 4,
 "nbformat_minor": 5
}
