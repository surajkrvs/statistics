{
 "cells": [
  {
   "cell_type": "code",
   "execution_count": 1,
   "id": "d8e1a1cf-a13f-48bf-bdc5-7e5a40c9bdcc",
   "metadata": {},
   "outputs": [],
   "source": [
    "##measure of dispersion"
   ]
  },
  {
   "cell_type": "code",
   "execution_count": 2,
   "id": "c393ff89-de1c-47c0-b9a6-177cee4113f2",
   "metadata": {},
   "outputs": [],
   "source": [
    "ages_list = [23,45,67,55,43,25,86]"
   ]
  },
  {
   "cell_type": "code",
   "execution_count": 3,
   "id": "129b607d-3fcc-4cec-beec-073d6d6d663e",
   "metadata": {},
   "outputs": [],
   "source": [
    "import numpy as np "
   ]
  },
  {
   "cell_type": "code",
   "execution_count": 4,
   "id": "925f937a-00f9-4470-bbb5-23048f22ba71",
   "metadata": {},
   "outputs": [
    {
     "data": {
      "text/plain": [
       "49.142857142857146"
      ]
     },
     "execution_count": 4,
     "metadata": {},
     "output_type": "execute_result"
    }
   ],
   "source": [
    "np.mean(ages_list)"
   ]
  },
  {
   "cell_type": "code",
   "execution_count": 5,
   "id": "63c3f654-4502-4b5d-856d-7fef105d9378",
   "metadata": {},
   "outputs": [
    {
     "data": {
      "text/plain": [
       "433.26530612244903"
      ]
     },
     "execution_count": 5,
     "metadata": {},
     "output_type": "execute_result"
    }
   ],
   "source": [
    "np.var(ages_list)"
   ]
  },
  {
   "cell_type": "code",
   "execution_count": 6,
   "id": "21ea944d-0911-437d-a388-e2e822a30a10",
   "metadata": {},
   "outputs": [
    {
     "data": {
      "text/plain": [
       "20.815025969775995"
      ]
     },
     "execution_count": 6,
     "metadata": {},
     "output_type": "execute_result"
    }
   ],
   "source": [
    "np.std(ages_list)"
   ]
  },
  {
   "cell_type": "code",
   "execution_count": 7,
   "id": "74f6a1b6-f329-456e-a20b-a28f4852ef58",
   "metadata": {},
   "outputs": [],
   "source": [
    "import seaborn as sns"
   ]
  },
  {
   "cell_type": "code",
   "execution_count": 8,
   "id": "f17c39d1-ee20-47ef-aed3-f33bdcddb642",
   "metadata": {},
   "outputs": [
    {
     "data": {
      "text/plain": [
       "<AxesSubplot: ylabel='Count'>"
      ]
     },
     "execution_count": 8,
     "metadata": {},
     "output_type": "execute_result"
    },
    {
     "data": {
      "image/png": "[encoded data removed]",
      "text/plain": [
       "<Figure size 640x480 with 1 Axes>"
      ]
     },
     "metadata": {},
     "output_type": "display_data"
    }
   ],
   "source": [
    "sns.histplot(ages_list, kde = True)"
   ]
  },
  {
   "cell_type": "code",
   "execution_count": 9,
   "id": "8f574440-e07a-4768-a5d2-ae82c51c1721",
   "metadata": {},
   "outputs": [],
   "source": [
    "import pandas as pd"
   ]
  },
  {
   "cell_type": "code",
   "execution_count": 10,
   "id": "cf65c3a4-defe-497a-af89-7ff82936cad1",
   "metadata": {},
   "outputs": [
    {
     "data": {
      "text/plain": [
       "[[34, 55, 32], [23, 45, 67], [54, 32, 43]]"
      ]
     },
     "execution_count": 10,
     "metadata": {},
     "output_type": "execute_result"
    }
   ],
   "source": [
    "data = [[34,55,32], [23,45,67], [54,32,43]]\n",
    "data"
   ]
  },
  {
   "cell_type": "code",
   "execution_count": 13,
   "id": "24519aa8-3b0b-4a56-bbcb-c2cbd7dc5108",
   "metadata": {},
   "outputs": [],
   "source": [
    "df = pd.DataFrame(data, columns = ['A', 'B', 'C'])"
   ]
  },
  {
   "cell_type": "code",
   "execution_count": 14,
   "id": "d09a58ac-6804-45ee-932c-e6caf966ef20",
   "metadata": {},
   "outputs": [
    {
     "data": {
      "text/html": [
       "<div>\n",
       "<style scoped>\n",
       "    .dataframe tbody tr th:only-of-type {\n",
       "        vertical-align: middle;\n",
       "    }\n",
       "\n",
       "    .dataframe tbody tr th {\n",
       "        vertical-align: top;\n",
       "    }\n",
       "\n",
       "    .dataframe thead th {\n",
       "        text-align: right;\n",
       "    }\n",
       "</style>\n",
       "<table border=\"1\" class=\"dataframe\">\n",
       "  <thead>\n",
       "    <tr style=\"text-align: right;\">\n",
       "      <th></th>\n",
       "      <th>A</th>\n",
       "      <th>B</th>\n",
       "      <th>C</th>\n",
       "    </tr>\n",
       "  </thead>\n",
       "  <tbody>\n",
       "    <tr>\n",
       "      <th>0</th>\n",
       "      <td>34</td>\n",
       "      <td>55</td>\n",
       "      <td>32</td>\n",
       "    </tr>\n",
       "    <tr>\n",
       "      <th>1</th>\n",
       "      <td>23</td>\n",
       "      <td>45</td>\n",
       "      <td>67</td>\n",
       "    </tr>\n",
       "    <tr>\n",
       "      <th>2</th>\n",
       "      <td>54</td>\n",
       "      <td>32</td>\n",
       "      <td>43</td>\n",
       "    </tr>\n",
       "  </tbody>\n",
       "</table>\n",
       "</div>"
      ],
      "text/plain": [
       "    A   B   C\n",
       "0  34  55  32\n",
       "1  23  45  67\n",
       "2  54  32  43"
      ]
     },
     "execution_count": 14,
     "metadata": {},
     "output_type": "execute_result"
    }
   ],
   "source": [
    "df"
   ]
  },
  {
   "cell_type": "code",
   "execution_count": 16,
   "id": "533c89c1-f91e-4e9b-a8d1-ca5565f3e793",
   "metadata": {},
   "outputs": [
    {
     "data": {
      "text/plain": [
       "A    247.000000\n",
       "B    133.000000\n",
       "C    320.333333\n",
       "dtype: float64"
      ]
     },
     "execution_count": 16,
     "metadata": {},
     "output_type": "execute_result"
    }
   ],
   "source": [
    "df.var()"
   ]
  },
  {
   "cell_type": "code",
   "execution_count": 17,
   "id": "b44941bd-6b7f-42a5-ad45-b8f02afe4dec",
   "metadata": {},
   "outputs": [
    {
     "data": {
      "text/plain": [
       "A    15.716234\n",
       "B    11.532563\n",
       "C    17.897858\n",
       "dtype: float64"
      ]
     },
     "execution_count": 17,
     "metadata": {},
     "output_type": "execute_result"
    }
   ],
   "source": [
    "df.std()"
   ]
  },
  {
   "cell_type": "code",
   "execution_count": null,
   "id": "2f7d5646-3ab4-4dd8-a8bd-5cf799c81a6a",
   "metadata": {},
   "outputs": [],
   "source": [
    "d"
   ]
  }
 ],
 "metadata": {
  "kernelspec": {
   "display_name": "Python 3 (ipykernel)",
   "language": "python",
   "name": "python3"
  },
  "language_info": {
   "codemirror_mode": {
    "name": "ipython",
    "version": 3
   },
   "file_extension": ".py",
   "mimetype": "text/x-python",
   "name": "python",
   "nbconvert_exporter": "python",
   "pygments_lexer": "ipython3",
   "version": "3.10.8"
  }
 },
 "nbformat": 4,
 "nbformat_minor": 5
}
